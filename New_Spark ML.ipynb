{
 "cells": [
  {
   "cell_type": "code",
   "execution_count": 1,
   "metadata": {},
   "outputs": [],
   "source": [
    "from pyspark.sql import SparkSession\n",
    "\n",
    "# Build the SparkSession\n",
    "spark = SparkSession.builder \\\n",
    "   .master(\"local\") \\\n",
    "   .appName(\"First demo SparkML\") \\\n",
    "   .config(\"spark.executor.memory\", \"1gb\") \\\n",
    "   .getOrCreate()\n",
    "   \n",
    "sc = spark.sparkContext"
   ]
  },
  {
   "cell_type": "code",
   "execution_count": 2,
   "metadata": {},
   "outputs": [
    {
     "name": "stdout",
     "output_type": "stream",
     "text": [
      "+------------+-----------+------------+-----------+-----------+\n",
      "|sepal_length|sepal_width|petal_length|petal_width|    species|\n",
      "+------------+-----------+------------+-----------+-----------+\n",
      "|         5.1|        3.5|         1.4|        0.2|Iris-setosa|\n",
      "|         4.9|        3.0|         1.4|        0.2|Iris-setosa|\n",
      "|         4.7|        3.2|         1.3|        0.2|Iris-setosa|\n",
      "|         4.6|        3.1|         1.5|        0.2|Iris-setosa|\n",
      "|         5.0|        3.6|         1.4|        0.2|Iris-setosa|\n",
      "+------------+-----------+------------+-----------+-----------+\n",
      "only showing top 5 rows\n",
      "\n"
     ]
    }
   ],
   "source": [
    "df = spark.read.csv('/Users/Storage/Vicohub/Data/Iris.csv', header=True)\n",
    "df.show(5)"
   ]
  },
  {
   "cell_type": "code",
   "execution_count": 3,
   "metadata": {},
   "outputs": [],
   "source": [
    "from pyspark.ml.linalg import DenseVector\n",
    "from pyspark.ml.feature import StringIndexer\n",
    "from pyspark.ml.classification import RandomForestClassifier"
   ]
  },
  {
   "cell_type": "code",
   "execution_count": 6,
   "metadata": {},
   "outputs": [],
   "source": [
    "from pyspark.ml.evaluation import MulticlassClassificationEvaluator"
   ]
  },
  {
   "cell_type": "code",
   "execution_count": 4,
   "metadata": {},
   "outputs": [
    {
     "name": "stdout",
     "output_type": "stream",
     "text": [
      "+-----------------+-----------+\n",
      "|                X|          Y|\n",
      "+-----------------+-----------+\n",
      "|[5.1,3.5,1.4,0.2]|Iris-setosa|\n",
      "|[4.9,3.0,1.4,0.2]|Iris-setosa|\n",
      "|[4.7,3.2,1.3,0.2]|Iris-setosa|\n",
      "|[4.6,3.1,1.5,0.2]|Iris-setosa|\n",
      "|[5.0,3.6,1.4,0.2]|Iris-setosa|\n",
      "+-----------------+-----------+\n",
      "only showing top 5 rows\n",
      "\n"
     ]
    }
   ],
   "source": [
    "data = df.rdd.map(lambda x: (DenseVector(x[:4]), x[4]))\n",
    "\n",
    "# Replace `df` with the new DataFrame\n",
    "df1 = spark.createDataFrame(data, [\"X\", \"Y\"])\n",
    "df1.show(5)"
   ]
  },
  {
   "cell_type": "code",
   "execution_count": 5,
   "metadata": {},
   "outputs": [
    {
     "name": "stdout",
     "output_type": "stream",
     "text": [
      "+-----------------+---------------+---+\n",
      "|                X|              Y| Yn|\n",
      "+-----------------+---------------+---+\n",
      "|[5.1,3.5,1.4,0.2]|    Iris-setosa|0.0|\n",
      "|[4.9,3.0,1.4,0.2]|    Iris-setosa|0.0|\n",
      "|[4.7,3.2,1.3,0.2]|    Iris-setosa|0.0|\n",
      "|[4.6,3.1,1.5,0.2]|    Iris-setosa|0.0|\n",
      "|[5.0,3.6,1.4,0.2]|    Iris-setosa|0.0|\n",
      "|[5.4,3.9,1.7,0.4]|    Iris-setosa|0.0|\n",
      "|[4.6,3.4,1.4,0.3]|    Iris-setosa|0.0|\n",
      "|[5.0,3.4,1.5,0.2]|    Iris-setosa|0.0|\n",
      "|[4.4,2.9,1.4,0.2]|    Iris-setosa|0.0|\n",
      "|[4.9,3.1,1.5,0.1]|    Iris-setosa|0.0|\n",
      "|[5.4,3.7,1.5,0.2]|    Iris-setosa|0.0|\n",
      "|[4.8,3.4,1.6,0.2]|    Iris-setosa|0.0|\n",
      "|[4.8,3.0,1.4,0.1]|    Iris-setosa|0.0|\n",
      "|[4.3,3.0,1.1,0.1]|    Iris-setosa|0.0|\n",
      "|[5.8,4.0,1.2,0.2]|    Iris-setosa|0.0|\n",
      "|[5.7,4.4,1.5,0.4]|    Iris-setosa|0.0|\n",
      "|[5.4,3.9,1.3,0.4]|    Iris-setosa|0.0|\n",
      "|[5.1,3.5,1.4,0.3]|    Iris-setosa|0.0|\n",
      "|[5.7,3.8,1.7,0.3]|    Iris-setosa|0.0|\n",
      "|[5.1,3.8,1.5,0.3]|    Iris-setosa|0.0|\n",
      "|[5.4,3.4,1.7,0.2]|    Iris-setosa|0.0|\n",
      "|[5.1,3.7,1.5,0.4]|    Iris-setosa|0.0|\n",
      "|[4.6,3.6,1.0,0.2]|    Iris-setosa|0.0|\n",
      "|[5.1,3.3,1.7,0.5]|    Iris-setosa|0.0|\n",
      "|[4.8,3.4,1.9,0.2]|    Iris-setosa|0.0|\n",
      "|[5.0,3.0,1.6,0.2]|    Iris-setosa|0.0|\n",
      "|[5.0,3.4,1.6,0.4]|    Iris-setosa|0.0|\n",
      "|[5.2,3.5,1.5,0.2]|    Iris-setosa|0.0|\n",
      "|[5.2,3.4,1.4,0.2]|    Iris-setosa|0.0|\n",
      "|[4.7,3.2,1.6,0.2]|    Iris-setosa|0.0|\n",
      "|[4.8,3.1,1.6,0.2]|    Iris-setosa|0.0|\n",
      "|[5.4,3.4,1.5,0.4]|    Iris-setosa|0.0|\n",
      "|[5.2,4.1,1.5,0.1]|    Iris-setosa|0.0|\n",
      "|[5.5,4.2,1.4,0.2]|    Iris-setosa|0.0|\n",
      "|[4.9,3.1,1.5,0.1]|    Iris-setosa|0.0|\n",
      "|[5.0,3.2,1.2,0.2]|    Iris-setosa|0.0|\n",
      "|[5.5,3.5,1.3,0.2]|    Iris-setosa|0.0|\n",
      "|[4.9,3.1,1.5,0.1]|    Iris-setosa|0.0|\n",
      "|[4.4,3.0,1.3,0.2]|    Iris-setosa|0.0|\n",
      "|[5.1,3.4,1.5,0.2]|    Iris-setosa|0.0|\n",
      "|[5.0,3.5,1.3,0.3]|    Iris-setosa|0.0|\n",
      "|[4.5,2.3,1.3,0.3]|    Iris-setosa|0.0|\n",
      "|[4.4,3.2,1.3,0.2]|    Iris-setosa|0.0|\n",
      "|[5.0,3.5,1.6,0.6]|    Iris-setosa|0.0|\n",
      "|[5.1,3.8,1.9,0.4]|    Iris-setosa|0.0|\n",
      "|[4.8,3.0,1.4,0.3]|    Iris-setosa|0.0|\n",
      "|[5.1,3.8,1.6,0.2]|    Iris-setosa|0.0|\n",
      "|[4.6,3.2,1.4,0.2]|    Iris-setosa|0.0|\n",
      "|[5.3,3.7,1.5,0.2]|    Iris-setosa|0.0|\n",
      "|[5.0,3.3,1.4,0.2]|    Iris-setosa|0.0|\n",
      "|[7.0,3.2,4.7,1.4]|Iris-versicolor|1.0|\n",
      "|[6.4,3.2,4.5,1.5]|Iris-versicolor|1.0|\n",
      "|[6.9,3.1,4.9,1.5]|Iris-versicolor|1.0|\n",
      "|[5.5,2.3,4.0,1.3]|Iris-versicolor|1.0|\n",
      "|[6.5,2.8,4.6,1.5]|Iris-versicolor|1.0|\n",
      "|[5.7,2.8,4.5,1.3]|Iris-versicolor|1.0|\n",
      "|[6.3,3.3,4.7,1.6]|Iris-versicolor|1.0|\n",
      "|[4.9,2.4,3.3,1.0]|Iris-versicolor|1.0|\n",
      "|[6.6,2.9,4.6,1.3]|Iris-versicolor|1.0|\n",
      "|[5.2,2.7,3.9,1.4]|Iris-versicolor|1.0|\n",
      "+-----------------+---------------+---+\n",
      "only showing top 60 rows\n",
      "\n"
     ]
    }
   ],
   "source": [
    "indexer = StringIndexer(inputCol=\"Y\", outputCol=\"Yn\")\n",
    "indexed = indexer.fit(df1).transform(df1)\n",
    "indexed.show(60)"
   ]
  },
  {
   "cell_type": "code",
   "execution_count": 20,
   "metadata": {},
   "outputs": [],
   "source": [
    "import numpy as np\n",
    "evaluator = MulticlassClassificationEvaluator(\n",
    "        labelCol=\"Yn\", predictionCol=\"prediction\", metricName=\"accuracy\")"
   ]
  },
  {
   "cell_type": "code",
   "execution_count": 21,
   "metadata": {},
   "outputs": [
    {
     "name": "stdout",
     "output_type": "stream",
     "text": [
      "0 - Test Accuracy = 0.9333333333333333\n",
      "1 - Test Accuracy = 0.9523809523809523\n",
      "2 - Test Accuracy = 0.975\n",
      "3 - Test Accuracy = 0.9629629629629629\n",
      "4 - Test Accuracy = 0.9512195121951219\n",
      "5 - Test Accuracy = 0.9259259259259259\n",
      "6 - Test Accuracy = 0.9285714285714286\n",
      "7 - Test Accuracy = 0.9423076923076923\n",
      "8 - Test Accuracy = 0.9285714285714286\n",
      "9 - Test Accuracy = 0.9444444444444444\n",
      "AVG Acc:  0.9444717680693291\n"
     ]
    }
   ],
   "source": [
    "acc = []\n",
    "for i in range(10):\n",
    "    rf = RandomForestClassifier(labelCol=\"Yn\", \n",
    "                            featuresCol=\"X\", \n",
    "                            numTrees=10)\n",
    "    (trainingData, testData) = indexed.randomSplit([0.7, 0.3])\n",
    "    model = rf.fit(trainingData)\n",
    "    predictions = model.transform(testData)\n",
    "\n",
    "    predictions.select(\"Yn\", \"prediction\")\n",
    "\n",
    "    accuracy = evaluator.evaluate(predictions)\n",
    "    print(\"{} - Test Accuracy = {}\".format(i,accuracy))\n",
    "    acc.append(accuracy)\n",
    "print('AVG Acc: ', np.mean(acc))"
   ]
  },
  {
   "cell_type": "code",
   "execution_count": 24,
   "metadata": {},
   "outputs": [],
   "source": [
    "# from pyspark.ml.classification import GBTClassifier\n",
    "from pyspark.ml.classification import LogisticRegression"
   ]
  },
  {
   "cell_type": "code",
   "execution_count": 25,
   "metadata": {},
   "outputs": [
    {
     "name": "stdout",
     "output_type": "stream",
     "text": [
      "0 - Test Accuracy = 0.5227272727272727\n",
      "1 - Test Accuracy = 0.7608695652173914\n",
      "2 - Test Accuracy = 0.8367346938775511\n",
      "3 - Test Accuracy = 0.62\n",
      "4 - Test Accuracy = 0.6511627906976745\n",
      "5 - Test Accuracy = 0.7619047619047619\n",
      "6 - Test Accuracy = 0.64\n",
      "7 - Test Accuracy = 0.6545454545454545\n",
      "8 - Test Accuracy = 0.5471698113207547\n",
      "9 - Test Accuracy = 0.6666666666666666\n",
      "AVG Acc:  0.6661781016957528\n"
     ]
    }
   ],
   "source": [
    "acc = []\n",
    "for i in range(10):\n",
    "#     gbt = GBTClassifier(labelCol=\"Yn\", \n",
    "#                         featuresCol=\"X\",\n",
    "#                         maxIter=10)\n",
    "    lr = LogisticRegression(labelCol=\"Yn\", \n",
    "                            featuresCol=\"X\", \n",
    "                            maxIter=10, \n",
    "                            regParam=0.3, \n",
    "                            elasticNetParam=0.8)\n",
    "    (trainingData, testData) = indexed.randomSplit([0.7, 0.3])\n",
    "    model = lr.fit(trainingData)\n",
    "    predictions = model.transform(testData)\n",
    "\n",
    "    predictions.select(\"Yn\", \"prediction\")\n",
    "    accuracy = evaluator.evaluate(predictions)\n",
    "    print(\"{} - Test Accuracy = {}\".format(i,accuracy))\n",
    "    acc.append(accuracy)\n",
    "print('AVG Acc: ', np.mean(acc))"
   ]
  },
  {
   "cell_type": "markdown",
   "metadata": {},
   "source": [
    "## Wine White"
   ]
  },
  {
   "cell_type": "code",
   "execution_count": 27,
   "metadata": {},
   "outputs": [
    {
     "name": "stdout",
     "output_type": "stream",
     "text": [
      "+-------------+----------------+-----------+--------------+---------+-------------------+--------------------+-------+----+---------+-------+-------+\n",
      "|fixed acidity|volatile acidity|citric acid|residual sugar|chlorides|free sulfur dioxide|total sulfur dioxide|density|  pH|sulphates|alcohol|quality|\n",
      "+-------------+----------------+-----------+--------------+---------+-------------------+--------------------+-------+----+---------+-------+-------+\n",
      "|          7.0|            0.27|       0.36|          20.7|    0.045|               45.0|               170.0|  1.001| 3.0|     0.45|    8.8|      6|\n",
      "|          6.3|             0.3|       0.34|           1.6|    0.049|               14.0|               132.0|  0.994| 3.3|     0.49|    9.5|      6|\n",
      "|          8.1|            0.28|        0.4|           6.9|     0.05|               30.0|                97.0| 0.9951|3.26|     0.44|   10.1|      6|\n",
      "|          7.2|            0.23|       0.32|           8.5|    0.058|               47.0|               186.0| 0.9956|3.19|      0.4|    9.9|      6|\n",
      "|          7.2|            0.23|       0.32|           8.5|    0.058|               47.0|               186.0| 0.9956|3.19|      0.4|    9.9|      6|\n",
      "+-------------+----------------+-----------+--------------+---------+-------------------+--------------------+-------+----+---------+-------+-------+\n",
      "only showing top 5 rows\n",
      "\n"
     ]
    }
   ],
   "source": [
    "from pyspark.sql.types import StructType, StructField\n",
    "from pyspark.sql.types import DoubleType, IntegerType, StringType\n",
    "\n",
    "schema = StructType([\n",
    "    StructField(\"fixed acidity\", DoubleType()),\n",
    "    StructField(\"volatile acidity\", DoubleType()),\n",
    "    StructField(\"citric acid\", DoubleType()),\n",
    "    StructField(\"residual sugar\", DoubleType()),\n",
    "    StructField(\"chlorides\", DoubleType()),\n",
    "    StructField(\"free sulfur dioxide\", DoubleType()),\n",
    "    StructField(\"total sulfur dioxide\", DoubleType()),\n",
    "    StructField(\"density\", DoubleType()),\n",
    "    StructField(\"pH\", DoubleType()),\n",
    "    StructField(\"sulphates\", DoubleType()),\n",
    "    StructField(\"alcohol\", DoubleType()),\n",
    "    StructField(\"quality\", IntegerType())\n",
    "])\n",
    "\n",
    "df = spark.read.format(\"com.databricks.spark.csv\").schema(schema).option(\"header\", \"true\") \\\n",
    "    .load(\"/Users/Storage/Vicohub/Data/winequality/winequality-white.csv\", sep=';')\n",
    "df.show(5)"
   ]
  },
  {
   "cell_type": "code",
   "execution_count": 28,
   "metadata": {},
   "outputs": [
    {
     "name": "stdout",
     "output_type": "stream",
     "text": [
      "+--------------------+---+---+\n",
      "|                   X|  Y| Yn|\n",
      "+--------------------+---+---+\n",
      "|[7.0,0.27,0.36,20...|  6|0.0|\n",
      "|[6.3,0.3,0.34,1.6...|  6|0.0|\n",
      "|[8.1,0.28,0.4,6.9...|  6|0.0|\n",
      "|[7.2,0.23,0.32,8....|  6|0.0|\n",
      "|[7.2,0.23,0.32,8....|  6|0.0|\n",
      "+--------------------+---+---+\n",
      "only showing top 5 rows\n",
      "\n"
     ]
    }
   ],
   "source": [
    "data = df.rdd.map(lambda x: (DenseVector(x[:11]), x[11]))\n",
    "\n",
    "# Replace `df` with the new DataFrame\n",
    "df2 = spark.createDataFrame(data, [\"X\", \"Y\"])\n",
    "indexed = indexer.fit(df2).transform(df2)\n",
    "indexed.show(5)"
   ]
  },
  {
   "cell_type": "code",
   "execution_count": 50,
   "metadata": {},
   "outputs": [
    {
     "name": "stdout",
     "output_type": "stream",
     "text": [
      "Test Accuracy = 0.6933701657458563\n"
     ]
    }
   ],
   "source": [
    "rf = RandomForestClassifier(labelCol=\"Yn\", \n",
    "                            featuresCol=\"X\", \n",
    "                            numTrees=100,\n",
    "                            featureSubsetStrategy=\"auto\",\n",
    "                            impurity='gini', maxDepth=25, maxBins=32)\n",
    "(trainingData, testData) = indexed.randomSplit([0.7, 0.3])\n",
    "model = rf.fit(trainingData)\n",
    "predictions = model.transform(testData)\n",
    "\n",
    "predictions.select(\"Yn\", \"prediction\")\n",
    "\n",
    "accuracy = evaluator.evaluate(predictions)\n",
    "print(\"Test Accuracy = {}\".format(accuracy))\n",
    "\n",
    "# predictions.show(20)"
   ]
  },
  {
   "cell_type": "code",
   "execution_count": 45,
   "metadata": {},
   "outputs": [
    {
     "data": {
      "text/plain": [
       "7"
      ]
     },
     "execution_count": 45,
     "metadata": {},
     "output_type": "execute_result"
    }
   ],
   "source": [
    "indexed.toPandas()['Yn'].nunique()"
   ]
  },
  {
   "cell_type": "code",
   "execution_count": null,
   "metadata": {},
   "outputs": [],
   "source": []
  }
 ],
 "metadata": {
  "kernelspec": {
   "display_name": "Python 3",
   "language": "python",
   "name": "python3"
  },
  "language_info": {
   "codemirror_mode": {
    "name": "ipython",
    "version": 3
   },
   "file_extension": ".py",
   "mimetype": "text/x-python",
   "name": "python",
   "nbconvert_exporter": "python",
   "pygments_lexer": "ipython3",
   "version": "3.6.8"
  }
 },
 "nbformat": 4,
 "nbformat_minor": 4
}
