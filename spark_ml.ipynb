{
 "cells": [
  {
   "cell_type": "code",
   "execution_count": null,
   "metadata": {},
   "outputs": [],
   "source": [
    "import findspark\n",
    "findspark.init()"
   ]
  },
  {
   "cell_type": "code",
   "execution_count": 1,
   "metadata": {},
   "outputs": [],
   "source": [
    "from pyspark.sql import SparkSession\n",
    "\n",
    "# Build the SparkSession\n",
    "spark = SparkSession.builder \\\n",
    "   .master(\"local\") \\\n",
    "   .appName(\"dat gi cung duoc\") \\\n",
    "   .config(\"spark.executor.memory\", \"1gb\") \\\n",
    "   .getOrCreate()\n",
    "   \n",
    "sc = spark.sparkContext"
   ]
  },
  {
   "cell_type": "code",
   "execution_count": 2,
   "metadata": {},
   "outputs": [
    {
     "data": {
      "text/plain": [
       "['sepal_length,sepal_width,petal_length,petal_width,species',\n",
       " '5.1,3.5,1.4,0.2,Iris-setosa',\n",
       " '4.9,3.0,1.4,0.2,Iris-setosa',\n",
       " '4.7,3.2,1.3,0.2,Iris-setosa',\n",
       " '4.6,3.1,1.5,0.2,Iris-setosa']"
      ]
     },
     "execution_count": 2,
     "metadata": {},
     "output_type": "execute_result"
    }
   ],
   "source": [
    "rdd = sc.textFile('/Users/Storage/Vicohub/Data/Iris.csv')\n",
    "rdd.take(5)"
   ]
  },
  {
   "cell_type": "code",
   "execution_count": 3,
   "metadata": {},
   "outputs": [
    {
     "name": "stdout",
     "output_type": "stream",
     "text": [
      "+------------+-----------+------------+-----------+-----------+\n",
      "|sepal_length|sepal_width|petal_length|petal_width|    species|\n",
      "+------------+-----------+------------+-----------+-----------+\n",
      "|         5.1|        3.5|         1.4|        0.2|Iris-setosa|\n",
      "|         4.9|        3.0|         1.4|        0.2|Iris-setosa|\n",
      "|         4.7|        3.2|         1.3|        0.2|Iris-setosa|\n",
      "|         4.6|        3.1|         1.5|        0.2|Iris-setosa|\n",
      "|         5.0|        3.6|         1.4|        0.2|Iris-setosa|\n",
      "|         5.4|        3.9|         1.7|        0.4|Iris-setosa|\n",
      "|         4.6|        3.4|         1.4|        0.3|Iris-setosa|\n",
      "|         5.0|        3.4|         1.5|        0.2|Iris-setosa|\n",
      "|         4.4|        2.9|         1.4|        0.2|Iris-setosa|\n",
      "|         4.9|        3.1|         1.5|        0.1|Iris-setosa|\n",
      "|         5.4|        3.7|         1.5|        0.2|Iris-setosa|\n",
      "|         4.8|        3.4|         1.6|        0.2|Iris-setosa|\n",
      "|         4.8|        3.0|         1.4|        0.1|Iris-setosa|\n",
      "|         4.3|        3.0|         1.1|        0.1|Iris-setosa|\n",
      "|         5.8|        4.0|         1.2|        0.2|Iris-setosa|\n",
      "|         5.7|        4.4|         1.5|        0.4|Iris-setosa|\n",
      "|         5.4|        3.9|         1.3|        0.4|Iris-setosa|\n",
      "|         5.1|        3.5|         1.4|        0.3|Iris-setosa|\n",
      "|         5.7|        3.8|         1.7|        0.3|Iris-setosa|\n",
      "|         5.1|        3.8|         1.5|        0.3|Iris-setosa|\n",
      "+------------+-----------+------------+-----------+-----------+\n",
      "only showing top 20 rows\n",
      "\n"
     ]
    }
   ],
   "source": [
    "df = spark.read.csv('/Users/Storage/Vicohub/Data/Iris.csv', header=True)\n",
    "df.show()"
   ]
  },
  {
   "cell_type": "code",
   "execution_count": 4,
   "metadata": {},
   "outputs": [],
   "source": [
    "def dosomething(x):\n",
    "    return (DenseVector(x[:4]), x[4])"
   ]
  },
  {
   "cell_type": "code",
   "execution_count": 5,
   "metadata": {},
   "outputs": [
    {
     "name": "stdout",
     "output_type": "stream",
     "text": [
      "+-----------------+-----------+\n",
      "|                X|          Y|\n",
      "+-----------------+-----------+\n",
      "|[5.1,3.5,1.4,0.2]|Iris-setosa|\n",
      "|[4.9,3.0,1.4,0.2]|Iris-setosa|\n",
      "|[4.7,3.2,1.3,0.2]|Iris-setosa|\n",
      "|[4.6,3.1,1.5,0.2]|Iris-setosa|\n",
      "|[5.0,3.6,1.4,0.2]|Iris-setosa|\n",
      "+-----------------+-----------+\n",
      "only showing top 5 rows\n",
      "\n"
     ]
    }
   ],
   "source": [
    "from pyspark.ml.linalg import DenseVector\n",
    "\n",
    "# Define the `input_data` \n",
    "# input_data = df.rdd.map(lambda x: (DenseVector(x[:4]), x[4]))\n",
    "\n",
    "input_data = df.rdd.map(dosomething)\n",
    "\n",
    "# Replace `df` with the new DataFrame\n",
    "df1 = spark.createDataFrame(input_data, [\"X\", \"Y\"])\n",
    "df1.show(5)"
   ]
  },
  {
   "cell_type": "code",
   "execution_count": 7,
   "metadata": {},
   "outputs": [
    {
     "name": "stdout",
     "output_type": "stream",
     "text": [
      "+-----------------+---------------+---+\n",
      "|                X|              Y| Yn|\n",
      "+-----------------+---------------+---+\n",
      "|[5.1,3.5,1.4,0.2]|    Iris-setosa|0.0|\n",
      "|[4.9,3.0,1.4,0.2]|    Iris-setosa|0.0|\n",
      "|[4.7,3.2,1.3,0.2]|    Iris-setosa|0.0|\n",
      "|[4.6,3.1,1.5,0.2]|    Iris-setosa|0.0|\n",
      "|[5.0,3.6,1.4,0.2]|    Iris-setosa|0.0|\n",
      "|[5.4,3.9,1.7,0.4]|    Iris-setosa|0.0|\n",
      "|[4.6,3.4,1.4,0.3]|    Iris-setosa|0.0|\n",
      "|[5.0,3.4,1.5,0.2]|    Iris-setosa|0.0|\n",
      "|[4.4,2.9,1.4,0.2]|    Iris-setosa|0.0|\n",
      "|[4.9,3.1,1.5,0.1]|    Iris-setosa|0.0|\n",
      "|[5.4,3.7,1.5,0.2]|    Iris-setosa|0.0|\n",
      "|[4.8,3.4,1.6,0.2]|    Iris-setosa|0.0|\n",
      "|[4.8,3.0,1.4,0.1]|    Iris-setosa|0.0|\n",
      "|[4.3,3.0,1.1,0.1]|    Iris-setosa|0.0|\n",
      "|[5.8,4.0,1.2,0.2]|    Iris-setosa|0.0|\n",
      "|[5.7,4.4,1.5,0.4]|    Iris-setosa|0.0|\n",
      "|[5.4,3.9,1.3,0.4]|    Iris-setosa|0.0|\n",
      "|[5.1,3.5,1.4,0.3]|    Iris-setosa|0.0|\n",
      "|[5.7,3.8,1.7,0.3]|    Iris-setosa|0.0|\n",
      "|[5.1,3.8,1.5,0.3]|    Iris-setosa|0.0|\n",
      "|[5.4,3.4,1.7,0.2]|    Iris-setosa|0.0|\n",
      "|[5.1,3.7,1.5,0.4]|    Iris-setosa|0.0|\n",
      "|[4.6,3.6,1.0,0.2]|    Iris-setosa|0.0|\n",
      "|[5.1,3.3,1.7,0.5]|    Iris-setosa|0.0|\n",
      "|[4.8,3.4,1.9,0.2]|    Iris-setosa|0.0|\n",
      "|[5.0,3.0,1.6,0.2]|    Iris-setosa|0.0|\n",
      "|[5.0,3.4,1.6,0.4]|    Iris-setosa|0.0|\n",
      "|[5.2,3.5,1.5,0.2]|    Iris-setosa|0.0|\n",
      "|[5.2,3.4,1.4,0.2]|    Iris-setosa|0.0|\n",
      "|[4.7,3.2,1.6,0.2]|    Iris-setosa|0.0|\n",
      "|[4.8,3.1,1.6,0.2]|    Iris-setosa|0.0|\n",
      "|[5.4,3.4,1.5,0.4]|    Iris-setosa|0.0|\n",
      "|[5.2,4.1,1.5,0.1]|    Iris-setosa|0.0|\n",
      "|[5.5,4.2,1.4,0.2]|    Iris-setosa|0.0|\n",
      "|[4.9,3.1,1.5,0.1]|    Iris-setosa|0.0|\n",
      "|[5.0,3.2,1.2,0.2]|    Iris-setosa|0.0|\n",
      "|[5.5,3.5,1.3,0.2]|    Iris-setosa|0.0|\n",
      "|[4.9,3.1,1.5,0.1]|    Iris-setosa|0.0|\n",
      "|[4.4,3.0,1.3,0.2]|    Iris-setosa|0.0|\n",
      "|[5.1,3.4,1.5,0.2]|    Iris-setosa|0.0|\n",
      "|[5.0,3.5,1.3,0.3]|    Iris-setosa|0.0|\n",
      "|[4.5,2.3,1.3,0.3]|    Iris-setosa|0.0|\n",
      "|[4.4,3.2,1.3,0.2]|    Iris-setosa|0.0|\n",
      "|[5.0,3.5,1.6,0.6]|    Iris-setosa|0.0|\n",
      "|[5.1,3.8,1.9,0.4]|    Iris-setosa|0.0|\n",
      "|[4.8,3.0,1.4,0.3]|    Iris-setosa|0.0|\n",
      "|[5.1,3.8,1.6,0.2]|    Iris-setosa|0.0|\n",
      "|[4.6,3.2,1.4,0.2]|    Iris-setosa|0.0|\n",
      "|[5.3,3.7,1.5,0.2]|    Iris-setosa|0.0|\n",
      "|[5.0,3.3,1.4,0.2]|    Iris-setosa|0.0|\n",
      "|[7.0,3.2,4.7,1.4]|Iris-versicolor|1.0|\n",
      "|[6.4,3.2,4.5,1.5]|Iris-versicolor|1.0|\n",
      "|[6.9,3.1,4.9,1.5]|Iris-versicolor|1.0|\n",
      "|[5.5,2.3,4.0,1.3]|Iris-versicolor|1.0|\n",
      "|[6.5,2.8,4.6,1.5]|Iris-versicolor|1.0|\n",
      "|[5.7,2.8,4.5,1.3]|Iris-versicolor|1.0|\n",
      "|[6.3,3.3,4.7,1.6]|Iris-versicolor|1.0|\n",
      "|[4.9,2.4,3.3,1.0]|Iris-versicolor|1.0|\n",
      "|[6.6,2.9,4.6,1.3]|Iris-versicolor|1.0|\n",
      "|[5.2,2.7,3.9,1.4]|Iris-versicolor|1.0|\n",
      "+-----------------+---------------+---+\n",
      "only showing top 60 rows\n",
      "\n"
     ]
    }
   ],
   "source": [
    "from pyspark.ml.feature import StringIndexer\n",
    "indexer = StringIndexer(inputCol=\"Y\", outputCol=\"Yn\")\n",
    "indexed = indexer.fit(df1).transform(df1)\n",
    "indexed.show(60)"
   ]
  },
  {
   "cell_type": "code",
   "execution_count": 8,
   "metadata": {},
   "outputs": [],
   "source": [
    "(trainingData, testData) = indexed.randomSplit([0.7, 0.3])"
   ]
  },
  {
   "cell_type": "code",
   "execution_count": 12,
   "metadata": {},
   "outputs": [],
   "source": [
    "from pyspark.ml.classification import RandomForestClassifier\n",
    "rf = RandomForestClassifier(labelCol=\"Yn\", \n",
    "                            featuresCol=\"X\", \n",
    "                            numTrees=10)\n",
    "model = rf.fit(trainingData)"
   ]
  },
  {
   "cell_type": "code",
   "execution_count": 13,
   "metadata": {},
   "outputs": [],
   "source": [
    "predictions = model.transform(testData)"
   ]
  },
  {
   "cell_type": "code",
   "execution_count": 14,
   "metadata": {},
   "outputs": [
    {
     "name": "stdout",
     "output_type": "stream",
     "text": [
      "+-----------------+-----------+---+--------------+-------------+----------+\n",
      "|                X|          Y| Yn| rawPrediction|  probability|prediction|\n",
      "+-----------------+-----------+---+--------------+-------------+----------+\n",
      "|[4.3,3.0,1.1,0.1]|Iris-setosa|0.0|[10.0,0.0,0.0]|[1.0,0.0,0.0]|       0.0|\n",
      "|[4.4,2.9,1.4,0.2]|Iris-setosa|0.0|[10.0,0.0,0.0]|[1.0,0.0,0.0]|       0.0|\n",
      "|[4.4,3.0,1.3,0.2]|Iris-setosa|0.0|[10.0,0.0,0.0]|[1.0,0.0,0.0]|       0.0|\n",
      "|[4.6,3.1,1.5,0.2]|Iris-setosa|0.0|[10.0,0.0,0.0]|[1.0,0.0,0.0]|       0.0|\n",
      "|[4.6,3.4,1.4,0.3]|Iris-setosa|0.0|[10.0,0.0,0.0]|[1.0,0.0,0.0]|       0.0|\n",
      "+-----------------+-----------+---+--------------+-------------+----------+\n",
      "only showing top 5 rows\n",
      "\n"
     ]
    }
   ],
   "source": [
    "predictions.show(5)"
   ]
  },
  {
   "cell_type": "code",
   "execution_count": 15,
   "metadata": {},
   "outputs": [
    {
     "name": "stdout",
     "output_type": "stream",
     "text": [
      "Test Accuracy = 0.883721\n"
     ]
    }
   ],
   "source": [
    "from pyspark.ml.evaluation import MulticlassClassificationEvaluator\n",
    "\n",
    "predictions.select(\"Yn\", \"prediction\")\n",
    "\n",
    "evaluator = MulticlassClassificationEvaluator(\n",
    "    labelCol=\"Yn\", predictionCol=\"prediction\", metricName=\"accuracy\")\n",
    "accuracy = evaluator.evaluate(predictions)\n",
    "print(\"Test Accuracy = %g\" % (accuracy))"
   ]
  },
  {
   "cell_type": "markdown",
   "metadata": {},
   "source": [
    "### Boston Housing"
   ]
  },
  {
   "cell_type": "code",
   "execution_count": 18,
   "metadata": {},
   "outputs": [
    {
     "name": "stdout",
     "output_type": "stream",
     "text": [
      "+-------+----+-----+----+-----+-----+----+------+---+-----+-------+------+-----+----+\n",
      "|   CRIM|  ZN|INDUS|CHAS|  NOX|   RM| AGE|   DIS|RAD|  TAX|PTRATIO|     B|LSTAT|MEDV|\n",
      "+-------+----+-----+----+-----+-----+----+------+---+-----+-------+------+-----+----+\n",
      "|0.00632|18.0| 2.31| 0.0|0.538|6.575|65.2|  4.09|1.0|296.0|   15.3| 396.9| 4.98|24.0|\n",
      "|0.02731| 0.0| 7.07| 0.0|0.469|6.421|78.9|4.9671|2.0|242.0|   17.8| 396.9| 9.14|21.6|\n",
      "|0.02729| 0.0| 7.07| 0.0|0.469|7.185|61.1|4.9671|2.0|242.0|   17.8|392.83| 4.03|34.7|\n",
      "|0.03237| 0.0| 2.18| 0.0|0.458|6.998|45.8|6.0622|3.0|222.0|   18.7|394.63| 2.94|33.4|\n",
      "|0.06905| 0.0| 2.18| 0.0|0.458|7.147|54.2|6.0622|3.0|222.0|   18.7| 396.9| 5.33|36.2|\n",
      "+-------+----+-----+----+-----+-----+----+------+---+-----+-------+------+-----+----+\n",
      "only showing top 5 rows\n",
      "\n"
     ]
    }
   ],
   "source": [
    "from pyspark.sql.types import StructType, StructField\n",
    "from pyspark.sql.types import DoubleType, IntegerType, StringType\n",
    "\n",
    "schema = StructType([\n",
    "    StructField(\"CRIM\", DoubleType()),\n",
    "    StructField(\"ZN\", DoubleType()),\n",
    "    StructField(\"INDUS\", DoubleType()),\n",
    "    StructField(\"CHAS\", DoubleType()),\n",
    "    StructField(\"NOX\", DoubleType()),\n",
    "    StructField(\"RM\", DoubleType()),\n",
    "    StructField(\"AGE\", DoubleType()),\n",
    "    StructField(\"DIS\", DoubleType()),\n",
    "    StructField(\"RAD\", DoubleType()),\n",
    "    StructField(\"TAX\", DoubleType()),\n",
    "    StructField(\"PTRATIO\", DoubleType()),\n",
    "    StructField(\"B\", DoubleType()),\n",
    "    StructField(\"LSTAT\", DoubleType()),\n",
    "    StructField(\"MEDV\", DoubleType())\n",
    "])\n",
    "\n",
    "df = spark.read.format(\"com.databricks.spark.csv\").schema(schema).option(\"header\", \"true\") \\\n",
    "    .load(\"/Users/Storage/Vicohub/Data/housing/boston_housing.csv\")\n",
    "# df = spark.read.csv('/Users/Storage/Vicohub/Data/housing/boston_housing.csv', header=True)\n",
    "df.show(5)"
   ]
  },
  {
   "cell_type": "code",
   "execution_count": 19,
   "metadata": {},
   "outputs": [
    {
     "data": {
      "text/plain": [
       "<bound method DataFrame.printSchema of DataFrame[CRIM: double, ZN: double, INDUS: double, CHAS: double, NOX: double, RM: double, AGE: double, DIS: double, RAD: double, TAX: double, PTRATIO: double, B: double, LSTAT: double, MEDV: double]>"
      ]
     },
     "execution_count": 19,
     "metadata": {},
     "output_type": "execute_result"
    }
   ],
   "source": [
    "df.printSchema"
   ]
  },
  {
   "cell_type": "code",
   "execution_count": 20,
   "metadata": {},
   "outputs": [],
   "source": [
    "from pyspark.ml.linalg import DenseVector\n",
    "data = df.rdd.map(lambda x: (DenseVector(x[:13]), x[13]))\n",
    "df1 = spark.createDataFrame(data, [\"X\", \"Y\"])\n",
    "(trainingData, testData) = df1.randomSplit([0.7, 0.3])"
   ]
  },
  {
   "cell_type": "code",
   "execution_count": 11,
   "metadata": {},
   "outputs": [
    {
     "name": "stdout",
     "output_type": "stream",
     "text": [
      "+--------------------+----+\n",
      "|                   X|   Y|\n",
      "+--------------------+----+\n",
      "|[0.00632,18.0,2.3...|24.0|\n",
      "|[0.01096,55.0,2.2...|22.0|\n",
      "|[0.0136,75.0,4.0,...|18.9|\n",
      "|[0.01381,80.0,0.4...|50.0|\n",
      "|[0.01439,60.0,2.9...|29.1|\n",
      "+--------------------+----+\n",
      "only showing top 5 rows\n",
      "\n"
     ]
    }
   ],
   "source": [
    "trainingData.show(5)"
   ]
  },
  {
   "cell_type": "code",
   "execution_count": 22,
   "metadata": {},
   "outputs": [
    {
     "name": "stdout",
     "output_type": "stream",
     "text": [
      "+--------------------+----+------------------+\n",
      "|                   X|   Y|        prediction|\n",
      "+--------------------+----+------------------+\n",
      "|[0.01381,80.0,0.4...|50.0| 50.28995603000262|\n",
      "|[0.01432,100.0,1....|31.6|29.368586613172965|\n",
      "|[0.01439,60.0,2.9...|29.1|  28.8793675356106|\n",
      "|[0.01951,17.5,1.3...|33.0|33.625703453545526|\n",
      "|[0.02729,0.0,7.07...|34.7|31.826898410579474|\n",
      "+--------------------+----+------------------+\n",
      "only showing top 5 rows\n",
      "\n",
      "Root Mean Squared Error (RMSE) on test data = 4.15822\n"
     ]
    }
   ],
   "source": [
    "from pyspark.ml.regression import GBTRegressor\n",
    "from pyspark.ml.evaluation import RegressionEvaluator\n",
    "\n",
    "gbt = GBTRegressor(featuresCol=\"X\", labelCol='Y', maxIter=10)\n",
    "model = gbt.fit(trainingData)\n",
    "predictions = model.transform(testData)\n",
    "\n",
    "# Select example rows to display.\n",
    "predictions.show(5)\n",
    "\n",
    "# Select (prediction, true label) and compute test error\n",
    "evaluator = RegressionEvaluator(\n",
    "    labelCol=\"Y\", predictionCol=\"prediction\", metricName=\"rmse\")\n",
    "rmse = evaluator.evaluate(predictions)\n",
    "print(\"Root Mean Squared Error (RMSE) on test data = %g\" % rmse)\n",
    "\n",
    "# gbtModel = model.stages[1]\n",
    "# print(gbtModel) "
   ]
  },
  {
   "cell_type": "code",
   "execution_count": null,
   "metadata": {},
   "outputs": [],
   "source": []
  }
 ],
 "metadata": {
  "kernelspec": {
   "display_name": "Python 3",
   "language": "python",
   "name": "python3"
  },
  "language_info": {
   "codemirror_mode": {
    "name": "ipython",
    "version": 3
   },
   "file_extension": ".py",
   "mimetype": "text/x-python",
   "name": "python",
   "nbconvert_exporter": "python",
   "pygments_lexer": "ipython3",
   "version": "3.6.8"
  }
 },
 "nbformat": 4,
 "nbformat_minor": 4
}
